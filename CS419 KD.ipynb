{
  "nbformat": 4,
  "nbformat_minor": 0,
  "metadata": {
    "colab": {
      "provenance": []
    },
    "kernelspec": {
      "name": "python3",
      "display_name": "Python 3"
    },
    "language_info": {
      "name": "python"
    }
  },
  "cells": [
    {
      "cell_type": "code",
      "execution_count": 2,
      "metadata": {
        "id": "x1_fF6ErsVqU"
      },
      "outputs": [],
      "source": [
        "import time\n",
        "import copy\n",
        "import numpy as np\n",
        "import pandas as pd\n",
        "import matplotlib.pyplot as plt\n",
        "import torch\n",
        "import torchvision\n",
        "from torchvision import datasets, transforms\n",
        "from torchsummary import summary\n",
        "from torch.optim import lr_scheduler\n",
        "import torch.nn.functional as F\n",
        "import torch.nn as nn\n",
        "import torchvision.models as models\n",
        "from torch import nn, optim\n",
        "from google.colab import files\n"
      ]
    },
    {
      "cell_type": "code",
      "source": [
        "BATCH_SIZE = 64\n",
        "DIR = 'content'\n",
        "device = torch.device('cuda:0' if torch.cuda.is_available() else 'cpu')\n",
        "ALPHA = 0.5\n",
        "TEMP = 1"
      ],
      "metadata": {
        "id": "V1wrRXzJtwia"
      },
      "execution_count": 3,
      "outputs": []
    },
    {
      "cell_type": "code",
      "source": [
        "transform = transforms.Compose([transforms.Resize((224,224)), #resizing images to match ResNet architecture\n",
        "                                transforms.ToTensor(),\n",
        "                                transforms.Normalize([0.485,0.456,  #using mean and std from ImageNet to match ResNet input data scaling\n",
        "                                0.406], [0.229, 0.224, 0.225])])\n",
        "trainset = datasets.CIFAR10(f'/DIR/train/', download=True, train=True, transform=transform)\n",
        "valset = datasets.CIFAR10(f'/DIR/val/', download=True, train=False, transform=transform)\n",
        "trainloader = torch.utils.data.DataLoader(trainset, batch_size=BATCH_SIZE, shuffle=True)\n",
        "valloader = torch.utils.data.DataLoader(valset, batch_size=BATCH_SIZE, shuffle=True)\n",
        "len_trainset = len(trainset)\n",
        "len_valset = len(valset)\n",
        "classes = ('plane', 'car', 'bird', 'cat','deer', 'dog', 'frog', 'horse', 'ship', 'truck')\n",
        "dataiter = iter(trainloader)\n"
      ],
      "metadata": {
        "colab": {
          "base_uri": "https://localhost:8080/"
        },
        "id": "ZCTwrzRStLjs",
        "outputId": "aa210410-5257-4bb9-8247-dd961c2feb75"
      },
      "execution_count": 4,
      "outputs": [
        {
          "output_type": "stream",
          "name": "stdout",
          "text": [
            "Files already downloaded and verified\n",
            "Files already downloaded and verified\n"
          ]
        }
      ]
    },
    {
      "cell_type": "code",
      "source": [
        "resnet = models.resnet50(pretrained=True) #setting up ResNet50 the teacher model\n",
        "for param in resnet.parameters():\n",
        "   param.requires_grad = False\n",
        "num_ftrs = resnet.fc.in_features\n",
        "resnet.fc = nn.Linear(num_ftrs, 10)\n",
        "resnet = resnet.to(device)\n",
        "criterion = nn.CrossEntropyLoss()\n",
        "optimizer = optim.Adam(resnet.fc.parameters())"
      ],
      "metadata": {
        "colab": {
          "base_uri": "https://localhost:8080/"
        },
        "id": "mG_Y6gEkwJB_",
        "outputId": "933c6256-a6c3-46ee-fe05-092b53fd4ce3"
      },
      "execution_count": 5,
      "outputs": [
        {
          "output_type": "stream",
          "name": "stderr",
          "text": [
            "/usr/local/lib/python3.10/dist-packages/torchvision/models/_utils.py:208: UserWarning: The parameter 'pretrained' is deprecated since 0.13 and may be removed in the future, please use 'weights' instead.\n",
            "  warnings.warn(\n",
            "/usr/local/lib/python3.10/dist-packages/torchvision/models/_utils.py:223: UserWarning: Arguments other than a weight enum or `None` for 'weights' are deprecated since 0.13 and may be removed in the future. The current behavior is equivalent to passing `weights=ResNet50_Weights.IMAGENET1K_V1`. You can also use `weights=ResNet50_Weights.DEFAULT` to get the most up-to-date weights.\n",
            "  warnings.warn(msg)\n",
            "Downloading: \"https://download.pytorch.org/models/resnet50-0676ba61.pth\" to /root/.cache/torch/hub/checkpoints/resnet50-0676ba61.pth\n",
            "100%|██████████| 97.8M/97.8M [00:01<00:00, 67.5MB/s]\n"
          ]
        }
      ]
    },
    {
      "cell_type": "code",
      "source": [
        "def train_and_evaluate(model, trainloader, valloader, criterion, optimizer, len_trainset, len_valset, num_epochs=25):\n",
        "\tmodel.train()\n",
        "\tbest_model_wts = copy.deepcopy(model.state_dict())\n",
        "\tbest_acc = 0.0\n",
        "\tfor epoch in range(num_epochs):\n",
        "\t\tmodel.train()\n",
        "\t\tprint(f'Epoch {epoch}/{num_epochs-1}')\n",
        "\t\tprint('-' * 10)\n",
        "\t\trunning_loss = 0.0\n",
        "\t\trunning_corrects = 0\n",
        "\t\tfor inputs, labels in trainloader:\n",
        "\t\t\tinputs = inputs.to(device)\n",
        "\t\t\tlabels = labels.to(device)\n",
        "\t\t\toptimizer.zero_grad()\n",
        "\t\t\toutputs = model(inputs)\n",
        "\t\t\tloss = criterion(outputs, labels)\n",
        "\t\t\t_, preds = torch.max(outputs, 1)\n",
        "\t\t\tloss.backward()\n",
        "\t\t\toptimizer.step()\n",
        "\t\t\trunning_loss += loss.item() * inputs.size(0)\n",
        "\t\t\trunning_corrects += torch.sum(preds == labels.data)\n",
        "\t\tepoch_loss = running_loss / len_trainset\n",
        "\t\tepoch_acc = running_corrects.double() / len_trainset\n",
        "\t\tprint(' Train Loss: {:.4f} Acc: {:.4f}'.format(epoch_loss,\n",
        "\t\t\t\t epoch_acc))\n",
        "\n",
        "\t\tmodel.eval()\n",
        "\t\trunning_loss_val = 0.0\n",
        "\t\trunning_corrects_val = 0\n",
        "\t\tfor inputs, labels in valloader:\n",
        "\t\t\tinputs = inputs.to(device)\n",
        "\t\t\tlabels = labels.to(device)\n",
        "\t\t\toutputs = model(inputs)\n",
        "\t\t\tloss = criterion(outputs,labels)\n",
        "\t\t\t_, preds = torch.max(outputs, 1)\n",
        "\t\t\trunning_loss_val += loss.item() * inputs.size(0)\n",
        "\t\t\trunning_corrects_val += torch.sum(preds == labels.data)\n",
        "\n",
        "\t\tepoch_loss_val = running_loss_val / len_valset\n",
        "\t\tepoch_acc_val = running_corrects_val.double() / len_valset\n",
        "\n",
        "\t\tif epoch_acc_val > best_acc:\n",
        "\t\t\tbest_acc = epoch_acc_val\n",
        "\t\t\tbest_model_wts = copy.deepcopy(model.state_dict())\n",
        "\n",
        "\t\tprint(' Val Loss: {:.4f} Acc: {:.4f}'.format(epoch_loss_val,\n",
        "\t\t\t\t epoch_acc_val))\n",
        "\n",
        "\t\tprint()\n",
        "\t\tprint('Best val Acc: {:4f}'.format(best_acc))\n",
        "\t\tmodel.load_state_dict(best_model_wts)\n",
        "\treturn model"
      ],
      "metadata": {
        "id": "KSzv0zU5w3sw"
      },
      "execution_count": 28,
      "outputs": []
    },
    {
      "cell_type": "code",
      "source": [
        "resnet_teacher = train_and_evaluate(resnet,trainloader,\n",
        "                                   valloader,criterion,optimizer,\n",
        "                                   len_trainset,len_valset,10)"
      ],
      "metadata": {
        "colab": {
          "base_uri": "https://localhost:8080/"
        },
        "id": "U486W92WypB9",
        "outputId": "86f9b6dc-4d30-4c14-965a-f97d9dc16ae9"
      },
      "execution_count": 30,
      "outputs": [
        {
          "output_type": "stream",
          "name": "stdout",
          "text": [
            "Epoch 0/9\n",
            "----------\n",
            " Train Loss: 0.7513 Acc: 0.7537\n",
            " Val Loss: 0.6128 Acc: 0.7914\n",
            "\n",
            "Best val Acc: 0.791400\n",
            "Epoch 1/9\n",
            "----------\n",
            " Train Loss: 0.5895 Acc: 0.7943\n",
            " Val Loss: 0.5586 Acc: 0.8082\n",
            "\n",
            "Best val Acc: 0.808200\n",
            "Epoch 2/9\n",
            "----------\n",
            " Train Loss: 0.5631 Acc: 0.8044\n",
            " Val Loss: 0.5537 Acc: 0.8093\n",
            "\n",
            "Best val Acc: 0.809300\n",
            "Epoch 3/9\n",
            "----------\n",
            " Train Loss: 0.5494 Acc: 0.8100\n",
            " Val Loss: 0.5410 Acc: 0.8147\n",
            "\n",
            "Best val Acc: 0.814700\n",
            "Epoch 4/9\n",
            "----------\n",
            " Train Loss: 0.5296 Acc: 0.8154\n",
            " Val Loss: 0.5221 Acc: 0.8192\n",
            "\n",
            "Best val Acc: 0.819200\n",
            "Epoch 5/9\n",
            "----------\n",
            " Train Loss: 0.5240 Acc: 0.8189\n",
            " Val Loss: 0.6081 Acc: 0.7998\n",
            "\n",
            "Best val Acc: 0.819200\n",
            "Epoch 6/9\n",
            "----------\n",
            " Train Loss: 0.5149 Acc: 0.8210\n",
            " Val Loss: 0.5523 Acc: 0.8133\n",
            "\n",
            "Best val Acc: 0.819200\n",
            "Epoch 7/9\n",
            "----------\n",
            " Train Loss: 0.5151 Acc: 0.8218\n",
            " Val Loss: 0.5031 Acc: 0.8269\n",
            "\n",
            "Best val Acc: 0.826900\n",
            "Epoch 8/9\n",
            "----------\n",
            " Train Loss: 0.5114 Acc: 0.8230\n",
            " Val Loss: 0.5341 Acc: 0.8201\n",
            "\n",
            "Best val Acc: 0.826900\n",
            "Epoch 9/9\n",
            "----------\n",
            " Train Loss: 0.5107 Acc: 0.8218\n",
            " Val Loss: 0.5040 Acc: 0.8282\n",
            "\n",
            "Best val Acc: 0.828200\n"
          ]
        }
      ]
    },
    {
      "cell_type": "code",
      "source": [
        "torch.save(resnet_teacher.state_dict(), 'resnet_teacher.pt')\n",
        "files.download('resnet_teacher.pt')"
      ],
      "metadata": {
        "colab": {
          "base_uri": "https://localhost:8080/",
          "height": 17
        },
        "id": "AQnqjEeo7ena",
        "outputId": "134d3a24-e7c1-4c58-cf48-db970dddd02e"
      },
      "execution_count": 33,
      "outputs": [
        {
          "output_type": "display_data",
          "data": {
            "text/plain": [
              "<IPython.core.display.Javascript object>"
            ],
            "application/javascript": [
              "\n",
              "    async function download(id, filename, size) {\n",
              "      if (!google.colab.kernel.accessAllowed) {\n",
              "        return;\n",
              "      }\n",
              "      const div = document.createElement('div');\n",
              "      const label = document.createElement('label');\n",
              "      label.textContent = `Downloading \"${filename}\": `;\n",
              "      div.appendChild(label);\n",
              "      const progress = document.createElement('progress');\n",
              "      progress.max = size;\n",
              "      div.appendChild(progress);\n",
              "      document.body.appendChild(div);\n",
              "\n",
              "      const buffers = [];\n",
              "      let downloaded = 0;\n",
              "\n",
              "      const channel = await google.colab.kernel.comms.open(id);\n",
              "      // Send a message to notify the kernel that we're ready.\n",
              "      channel.send({})\n",
              "\n",
              "      for await (const message of channel.messages) {\n",
              "        // Send a message to notify the kernel that we're ready.\n",
              "        channel.send({})\n",
              "        if (message.buffers) {\n",
              "          for (const buffer of message.buffers) {\n",
              "            buffers.push(buffer);\n",
              "            downloaded += buffer.byteLength;\n",
              "            progress.value = downloaded;\n",
              "          }\n",
              "        }\n",
              "      }\n",
              "      const blob = new Blob(buffers, {type: 'application/binary'});\n",
              "      const a = document.createElement('a');\n",
              "      a.href = window.URL.createObjectURL(blob);\n",
              "      a.download = filename;\n",
              "      div.appendChild(a);\n",
              "      a.click();\n",
              "      div.remove();\n",
              "    }\n",
              "  "
            ]
          },
          "metadata": {}
        },
        {
          "output_type": "display_data",
          "data": {
            "text/plain": [
              "<IPython.core.display.Javascript object>"
            ],
            "application/javascript": [
              "download(\"download_072ebbbd-81fa-4034-af80-7574fafe4802\", \"resnet_teacher.pt\", 94433934)"
            ]
          },
          "metadata": {}
        }
      ]
    },
    {
      "cell_type": "code",
      "source": [
        "class Net(nn.Module):\n",
        "\tdef __init__(self):\n",
        "\t\tsuper(Net, self).__init__()\n",
        "\t\tself.layer1 = nn.Sequential(\n",
        "\t\t\tnn.Conv2d(3, 64, kernel_size = (3,3), stride = (1,1),\n",
        "\t\t\tpadding = (1,1)),\n",
        "\t\t\tnn.ReLU(inplace=True),\n",
        "\t\t\tnn.Conv2d(64, 64, kernel_size = (3,3), stride = (1,1),\n",
        "\t\t\tpadding = (1,1)),\n",
        "\t\t\tnn.ReLU(inplace=True),\n",
        "\t\t\tnn.MaxPool2d(kernel_size=2, stride=2, padding=0,\n",
        "\t\t\tdilation=1, ceil_mode=False)\n",
        "\t\t)\n",
        "\t\tself.layer2 = nn.Sequential(\n",
        "\t\t\tnn.Conv2d(64, 128, kernel_size = (3,3), stride = (1,1),\n",
        "\t\t\tpadding = (1,1)),\n",
        "\t\t\tnn.ReLU(inplace=True),\n",
        "\t\t\tnn.Conv2d(128, 128, kernel_size = (3,3), stride = (1,1),\n",
        "\t\t\tpadding = (1,1)),\n",
        "\t\t\tnn.ReLU(inplace=True),\n",
        "\t\t\tnn.MaxPool2d(kernel_size=2, stride=2, padding=0,\n",
        "\t\t\tdilation=1, ceil_mode=False)\n",
        "\t\t)\n",
        "\t\tself.pool1 = nn.AdaptiveAvgPool2d(output_size=(1,1))\n",
        "\t\tself.fc1 = nn.Linear(128, 32)\n",
        "\t\tself.fc2 = nn.Linear(32, 10)\n",
        "\t\tself.dropout_rate = 0.5\n",
        "\n",
        "\tdef forward(self, x):\n",
        "\t\tx = self.layer1(x)\n",
        "\t\tx = self.layer2(x)\n",
        "\t\tx = self.pool1(x)\n",
        "\t\tx = x.view(x.size(0), -1)\n",
        "\t\tx = self.fc1(x)\n",
        "\t\tx = self.fc2(x)\n",
        "\t\treturn x\n",
        "net = Net().to(device)"
      ],
      "metadata": {
        "id": "Z39dFsuoy_i6"
      },
      "execution_count": 7,
      "outputs": []
    },
    {
      "cell_type": "code",
      "source": [
        "class SmallNet(nn.Module):\n",
        "    def __init__(self, num_classes=10):\n",
        "        super(SmallNet, self).__init__()\n",
        "        self.features = nn.Sequential(\n",
        "            nn.Conv2d(3, 16, kernel_size=3, padding=1),\n",
        "            nn.ReLU(),\n",
        "            nn.MaxPool2d(kernel_size=2, stride=2),\n",
        "            nn.Conv2d(16, 16, kernel_size=3, padding=1),\n",
        "            nn.ReLU(),\n",
        "            nn.MaxPool2d(kernel_size=2, stride=2),\n",
        "        )\n",
        "        self.classifier = nn.Sequential(\n",
        "            nn.Linear(1024, 256),\n",
        "            nn.ReLU(),\n",
        "            nn.Dropout(0.1),\n",
        "            nn.Linear(256, num_classes)\n",
        "        )\n",
        "\n",
        "    def forward(self, x):\n",
        "        x = self.features(x)\n",
        "        x = torch.flatten(x, 1)\n",
        "        x = self.classifier(x)\n",
        "        return x\n",
        "\n",
        "small_net = SmallNet().to(device)\n"
      ],
      "metadata": {
        "id": "PnDUcTx7-WdK"
      },
      "execution_count": 8,
      "outputs": []
    },
    {
      "cell_type": "code",
      "source": [
        "def loss_kd(outputs, labels, teacher_outputs, temp, alpha):\n",
        "\tKD_loss = nn.KLDivLoss()(F.log_softmax(outputs/temp,\n",
        "\t\t\t\t dim=1),F.softmax(teacher_outputs/temp,dim=1)) * (alpha * temp * temp) + F.cross_entropy(outputs, labels) * (1 - alpha)\n",
        "    #( torch.sum(F.softmax(teacher_outputs/temp,dim=-1) * (F.softmax(teacher_outputs/temp,dim=-1).log() - F.log_softmax(outputs/temp, dim=-1))) / soft_prob.size()[0] * (temp**2 * alpha) ) + F.cross_entropy(outputs, labels) * (1 - alpha)\n",
        "\treturn KD_loss\n",
        "\n",
        "def get_outputs(model, dataloader):\n",
        "\toutputs = []\n",
        "\tfor inputs, labels in dataloader:\n",
        "\t\tinputs_batch, labels_batch = inputs.to(device), labels.to(device)\n",
        "\t\toutput_batch = model(inputs_batch).data.cpu().numpy()\n",
        "\t\toutputs.append(output_batch)\n",
        "\treturn outputs"
      ],
      "metadata": {
        "id": "JEqON2WyzUFi"
      },
      "execution_count": 12,
      "outputs": []
    },
    {
      "cell_type": "code",
      "source": [
        "def train_kd(model,teacher_out, optimizer, use_kd, loss_fn, dataloader, temp, alpha):\n",
        "\tmodel.train()\n",
        "\trunning_loss = 0.0\n",
        "\trunning_corrects = 0\n",
        "\tfor i,(images, labels) in enumerate(dataloader):\n",
        "\t\tinputs = images.to(device)\n",
        "\t\tlabels = labels.to(device)\n",
        "\t\toptimizer.zero_grad()\n",
        "\t\toutputs = model(inputs)\n",
        "\t\tif use_kd:\n",
        "\t\t\toutputs_teacher = torch.from_numpy(teacher_out[i]).to(device)\n",
        "\t\t\tloss = loss_fn(outputs,labels,outputs_teacher,temp,\n",
        "\t\t\t\t\t\t\talpha)\n",
        "\t\telse:\n",
        "\t\t\tloss = loss_fn(outputs, labels)\n",
        "\t\t_, preds = torch.max(outputs, 1)\n",
        "\t\tloss.backward()\n",
        "\t\toptimizer.step()\n",
        "\t\trunning_loss += loss.item() * inputs.size(0)\n",
        "\t\trunning_corrects += torch.sum(preds == labels.data)\n",
        "\n",
        "\tepoch_loss = running_loss / len(trainset)\n",
        "\tepoch_acc = running_corrects.double() / len(trainset)\n",
        "\tprint(' Train Loss: {:.4f} Acc: {:.4f}'.format(epoch_loss,\n",
        "\t\t\t epoch_acc))\n",
        "\n",
        "def eval_kd(model,teacher_out, optimizer, use_kd, loss_fn, dataloader, temp, alpha):\n",
        "\tmodel.eval()\n",
        "\trunning_loss = 0.0\n",
        "\trunning_corrects = 0\n",
        "\tfor i,(images, labels) in enumerate(dataloader):\n",
        "\t\tinputs = images.to(device)\n",
        "\t\tlabels = labels.to(device)\n",
        "\t\toutputs = model(inputs)\n",
        "\t\tif use_kd:\n",
        "\t\t\toutputs_teacher = torch.from_numpy(teacher_out[i]).cuda()\n",
        "\t\t\tloss = loss_fn(outputs,labels,outputs_teacher,temp,\n",
        "\t\t\t\t\t\t\talpha)\n",
        "\t\telse:\n",
        "\t\t\tloss = loss_fn(outputs, labels)\n",
        "\t\t_, preds = torch.max(outputs, 1)\n",
        "\t\trunning_loss += loss.item() * inputs.size(0)\n",
        "\t\trunning_corrects += torch.sum(preds == labels.data)\n",
        "\tepoch_loss = running_loss / len(valset)\n",
        "\tepoch_acc = running_corrects.double() / len(valset)\n",
        "\tprint(' Val Loss: {:.4f} Acc: {:.4f}'.format(epoch_loss,\n",
        "\t\t\t epoch_acc))\n",
        "\treturn epoch_acc\n",
        "\n",
        "def train_and_evaluate_kd(model, teacher_model, optimizer, loss_fn, trainloader, valloader, temp, alpha, num_epochs=25):\n",
        "\tteacher_model.eval()\n",
        "\tbest_model_wts = copy.deepcopy(model.state_dict())\n",
        "\toutputs_teacher_train = get_outputs(teacher_model, trainloader)\n",
        "\toutputs_teacher_val = get_outputs(teacher_model, valloader)\n",
        "\tprint(\"Starting the training process\")\n",
        "\tbest_acc = 0.0\n",
        "\tfor epoch in range(num_epochs):\n",
        "\t\tprint('Epoch {}/{}'.format(epoch, num_epochs - 1))\n",
        "\t\tprint('-' * 10)\n",
        "\n",
        "\t\ttrain_kd(model, outputs_teacher_train,\n",
        "\t\t\t\t\toptim.Adam(net.parameters()),True, loss_fn,trainloader,\n",
        "\t\t\t\t\ttemp, alpha)\n",
        "\n",
        "\t\t# Evaluating the student network\n",
        "\t\tepoch_acc_val = eval_kd(model, outputs_teacher_val,\n",
        "\t\t\t\t\t\t\t\t\toptim.Adam(net.parameters()), True, loss_fn,\n",
        "\t\t\t\t\t\t\t\t\tvalloader, temp, alpha)\n",
        "\t\tif epoch_acc_val > best_acc:\n",
        "\t\t\tbest_acc = epoch_acc_val\n",
        "\t\t\tbest_model_wts = copy.deepcopy(model.state_dict())\n",
        "\t\t\tprint('Best val Acc: {:4f}'.format(best_acc))\n",
        "\t\t\tmodel.load_state_dict(best_model_wts)\n",
        "\treturn model\n",
        "\n",
        "def train_and_evaluate_no_kd(model, optimizer, loss_fn, trainloader, valloader, temp, alpha, num_epochs=25):\n",
        "\tbest_model_wts = copy.deepcopy(model.state_dict())\n",
        "\toutputs_teacher_train = None\n",
        "\toutputs_teacher_val = None\n",
        "\tprint(\"Starting the training process\")\n",
        "\tbest_acc = 0.0\n",
        "\tfor epoch in range(num_epochs):\n",
        "\t\tprint('Epoch {}/{}'.format(epoch, num_epochs - 1))\n",
        "\t\tprint('-' * 10)\n",
        "\n",
        "\t\ttrain_kd(model, outputs_teacher_train,\n",
        "\t\t\t\t\toptim.Adam(net.parameters()),False, loss_fn,trainloader,\n",
        "\t\t\t\t\ttemp, alpha)\n",
        "\n",
        "\t\t# Evaluating the student network\n",
        "\t\tepoch_acc_val = eval_kd(model, outputs_teacher_val,\n",
        "\t\t\t\t\t\t\t\t\toptim.Adam(net.parameters()), False, loss_fn,\n",
        "\t\t\t\t\t\t\t\t\tvalloader, temp, alpha)\n",
        "\t\tif epoch_acc_val > best_acc:\n",
        "\t\t\tbest_acc = epoch_acc_val\n",
        "\t\t\tbest_model_wts = copy.deepcopy(model.state_dict())\n",
        "\t\t\tprint('Best val Acc: {:4f}'.format(best_acc))\n",
        "\t\t\tmodel.load_state_dict(best_model_wts)\n",
        "\treturn model\n"
      ],
      "metadata": {
        "id": "OJ6C9b_I4vHH"
      },
      "execution_count": 10,
      "outputs": []
    },
    {
      "cell_type": "code",
      "source": [
        "student_kd = train_and_evaluate_kd(net,resnet_teacher,optim.Adam(net.parameters()),loss_kd,trainloader,valloader,TEMP,ALPHA,10)\n",
        "torch.save(student_kd.state_dict(), 'student_kd.pt')\n",
        "files.download('student_kd.pt')"
      ],
      "metadata": {
        "colab": {
          "base_uri": "https://localhost:8080/",
          "height": 867
        },
        "id": "f-TEQAN28JpU",
        "outputId": "fcca529b-c7cb-453c-926c-5e10c4e4a20a"
      },
      "execution_count": 48,
      "outputs": [
        {
          "output_type": "stream",
          "name": "stdout",
          "text": [
            "Starting the training process\n",
            "Epoch 0/9\n",
            "----------\n",
            " Train Loss: 0.9521 Acc: 0.4017\n",
            " Val Loss: 0.9186 Acc: 0.4436\n",
            "Best val Acc: 0.443600\n",
            "Epoch 1/9\n",
            "----------\n",
            " Train Loss: 0.8998 Acc: 0.4533\n",
            " Val Loss: 0.9029 Acc: 0.4613\n",
            "Best val Acc: 0.461300\n",
            "Epoch 2/9\n",
            "----------\n",
            " Train Loss: 0.8618 Acc: 0.4900\n",
            " Val Loss: 0.8489 Acc: 0.5084\n",
            "Best val Acc: 0.508400\n",
            "Epoch 3/9\n",
            "----------\n",
            " Train Loss: 0.8292 Acc: 0.5192\n",
            " Val Loss: 0.8243 Acc: 0.5216\n",
            "Best val Acc: 0.521600\n",
            "Epoch 4/9\n",
            "----------\n",
            " Train Loss: 0.8075 Acc: 0.5419\n",
            " Val Loss: 0.7901 Acc: 0.5546\n",
            "Best val Acc: 0.554600\n",
            "Epoch 5/9\n",
            "----------\n",
            " Train Loss: 0.7902 Acc: 0.5560\n",
            " Val Loss: 0.7923 Acc: 0.5511\n",
            "Epoch 6/9\n",
            "----------\n",
            " Train Loss: 0.7788 Acc: 0.5649\n",
            " Val Loss: 0.7827 Acc: 0.5668\n",
            "Best val Acc: 0.566800\n",
            "Epoch 7/9\n",
            "----------\n",
            " Train Loss: 0.7658 Acc: 0.5788\n",
            " Val Loss: 0.7532 Acc: 0.5848\n",
            "Best val Acc: 0.584800\n",
            "Epoch 8/9\n",
            "----------\n",
            " Train Loss: 0.7567 Acc: 0.5867\n",
            " Val Loss: 0.7493 Acc: 0.5901\n",
            "Best val Acc: 0.590100\n",
            "Epoch 9/9\n",
            "----------\n",
            " Train Loss: 0.7483 Acc: 0.5962\n",
            " Val Loss: 0.7553 Acc: 0.5856\n"
          ]
        },
        {
          "output_type": "display_data",
          "data": {
            "text/plain": [
              "<IPython.core.display.Javascript object>"
            ],
            "application/javascript": [
              "\n",
              "    async function download(id, filename, size) {\n",
              "      if (!google.colab.kernel.accessAllowed) {\n",
              "        return;\n",
              "      }\n",
              "      const div = document.createElement('div');\n",
              "      const label = document.createElement('label');\n",
              "      label.textContent = `Downloading \"${filename}\": `;\n",
              "      div.appendChild(label);\n",
              "      const progress = document.createElement('progress');\n",
              "      progress.max = size;\n",
              "      div.appendChild(progress);\n",
              "      document.body.appendChild(div);\n",
              "\n",
              "      const buffers = [];\n",
              "      let downloaded = 0;\n",
              "\n",
              "      const channel = await google.colab.kernel.comms.open(id);\n",
              "      // Send a message to notify the kernel that we're ready.\n",
              "      channel.send({})\n",
              "\n",
              "      for await (const message of channel.messages) {\n",
              "        // Send a message to notify the kernel that we're ready.\n",
              "        channel.send({})\n",
              "        if (message.buffers) {\n",
              "          for (const buffer of message.buffers) {\n",
              "            buffers.push(buffer);\n",
              "            downloaded += buffer.byteLength;\n",
              "            progress.value = downloaded;\n",
              "          }\n",
              "        }\n",
              "      }\n",
              "      const blob = new Blob(buffers, {type: 'application/binary'});\n",
              "      const a = document.createElement('a');\n",
              "      a.href = window.URL.createObjectURL(blob);\n",
              "      a.download = filename;\n",
              "      div.appendChild(a);\n",
              "      a.click();\n",
              "      div.remove();\n",
              "    }\n",
              "  "
            ]
          },
          "metadata": {}
        },
        {
          "output_type": "display_data",
          "data": {
            "text/plain": [
              "<IPython.core.display.Javascript object>"
            ],
            "application/javascript": [
              "download(\"download_c3c5ec69-d2d5-4f31-888d-175310b91bb6\", \"student_kd.pt\", 1063074)"
            ]
          },
          "metadata": {}
        }
      ]
    },
    {
      "cell_type": "code",
      "source": [
        "student_no_kd = train_and_evaluate_no_kd(net,optim.Adam(net.parameters()),nn.CrossEntropyLoss(),trainloader,valloader,TEMP,ALPHA,10)\n",
        "torch.save(student_no_kd.state_dict(), 'student_no_kd.pt')\n",
        "files.download('student_no_kd.pt')"
      ],
      "metadata": {
        "colab": {
          "base_uri": "https://localhost:8080/"
        },
        "id": "XXXJT3VE8jDM",
        "outputId": "87cdb655-5b0a-4bb2-e66a-9cc4ee581f8c"
      },
      "execution_count": null,
      "outputs": [
        {
          "output_type": "stream",
          "name": "stdout",
          "text": [
            "Starting the training process\n",
            "Epoch 0/9\n",
            "----------\n"
          ]
        }
      ]
    },
    {
      "cell_type": "code",
      "source": [
        "!pip install gdown\n",
        "!gdown https://drive.google.com/uc?id=1fvCetBJguJMyS8a66Uv2jvwW8bDgbl4X"
      ],
      "metadata": {
        "id": "6hfLf7YNI4v9"
      },
      "execution_count": null,
      "outputs": []
    },
    {
      "cell_type": "code",
      "source": [
        "resnet_teacher = models.resnet50(pretrained=True)\n",
        "for param in resnet_teacher.parameters():\n",
        "   param.requires_grad = False\n",
        "resnet_teacher.to(device)\n",
        "resnet_teacher.load_state_dict(torch.load('/content/resnet_teacher.pt'))\n",
        "resnet_teacher.eval()"
      ],
      "metadata": {
        "id": "Ot6RN41m-2Xl"
      },
      "execution_count": null,
      "outputs": []
    },
    {
      "cell_type": "code",
      "source": [
        "student_kd_small = train_and_evaluate_kd(small_net,resnet_teacher,optim.Adam(small_net.parameters()),loss_kd,trainloader,valloader,TEMP,ALPHA,10)\n",
        "torch.save(student_kd_small.state_dict(), 'student_kd_small.pt')\n",
        "files.download('student_kd_small.pt')"
      ],
      "metadata": {
        "id": "Esg7qJI6-o08"
      },
      "execution_count": null,
      "outputs": []
    },
    {
      "cell_type": "code",
      "source": [],
      "metadata": {
        "id": "VabYpLtL9waQ"
      },
      "execution_count": null,
      "outputs": []
    }
  ]
}